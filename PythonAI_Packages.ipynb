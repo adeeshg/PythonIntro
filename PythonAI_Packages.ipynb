{
  "nbformat": 4,
  "nbformat_minor": 0,
  "metadata": {
    "colab": {
      "name": "Introduction to AI in Python",
      "version": "0.3.2",
      "provenance": [],
      "toc_visible": true
    },
    "language_info": {
      "codemirror_mode": {
        "name": "ipython",
        "version": 3
      },
      "file_extension": ".py",
      "mimetype": "text/x-python",
      "name": "python",
      "nbconvert_exporter": "python",
      "pygments_lexer": "ipython3",
      "version": "3.6.0"
    },
    "kernelspec": {
      "display_name": "Python 3",
      "language": "python",
      "name": "python3"
    }
  },
  "cells": [
    {
      "cell_type": "markdown",
      "metadata": {
        "id": "hdjb4-LEKKbo",
        "colab_type": "text"
      },
      "source": [
        "# Introduction to NumPy, Pandas, Mathplotlib and Seaborn, and Sci-Kit Learn "
      ]
    },
    {
      "cell_type": "markdown",
      "metadata": {
        "id": "N0p2aNMyKKbq",
        "colab_type": "text"
      },
      "source": [
        "Before we set out on our journey into the land of artificial intelligence, we must first pack some gear. \n",
        "Some of the essentials include Numpy, Pandas, Mathplotlib, and Seaborn. Let's discuss Python Packages first!\n",
        "\n",
        "### Note: In case of time constraint, only do the sections that have an emoji next to the title.\n",
        "\n",
        "## What are Python Packages? "
      ]
    },
    {
      "cell_type": "markdown",
      "metadata": {
        "id": "G9_3omm0KKbs",
        "colab_type": "text"
      },
      "source": [
        "A Python package is simply an collection of modules — files consisting of Python code. The packages that we'll be looking at today includes Numpy, Pandas, Mathplotlib, and Seaborn. Let's begin with NumPy."
      ]
    },
    {
      "cell_type": "markdown",
      "metadata": {
        "id": "YUs6I5u5KKbv",
        "colab_type": "text"
      },
      "source": [
        "# NumPy: An Introduction  🤖"
      ]
    },
    {
      "cell_type": "markdown",
      "metadata": {
        "id": "yn5x1HxkKKbx",
        "colab_type": "text"
      },
      "source": [
        "Numpy is the core library for scientific computing in Python. Numpy provides the flexibility to create multidimensional array objects (arrays within arrays) and compute a wide variety of mathematical operations including discrete Fourier transforms, basic linear algebra, basic statistical operations, random simulation and much more.  "
      ]
    },
    {
      "cell_type": "markdown",
      "metadata": {
        "id": "pzRCzaWYKKby",
        "colab_type": "text"
      },
      "source": [
        "If you have downloaded the Anaconda stack, you're ready to go. If not, go to [Numpy](numpy.org) to download the package for your operating system. Once you have downloaded numpy, open a new Jupyter notebook and title it **pythonpackages.ipynb**"
      ]
    },
    {
      "cell_type": "markdown",
      "metadata": {
        "id": "dNj5CzYeKKb0",
        "colab_type": "text"
      },
      "source": [
        "We'll start with the standard NumPy import, under the alias np:"
      ]
    },
    {
      "cell_type": "code",
      "metadata": {
        "id": "e1NOvv47KKb1",
        "colab_type": "code",
        "colab": {}
      },
      "source": [
        "import numpy as np"
      ],
      "execution_count": 0,
      "outputs": []
    },
    {
      "cell_type": "markdown",
      "metadata": {
        "id": "-vnQ9rIFKKb5",
        "colab_type": "text"
      },
      "source": [
        "For consistency, I recommend that you check that you're using version 1.8 or later:"
      ]
    },
    {
      "cell_type": "code",
      "metadata": {
        "scrolled": true,
        "id": "SmYA2PAyKKb6",
        "colab_type": "code",
        "outputId": "ad0f296a-c431-4053-fa6a-1747a5f171e2",
        "colab": {
          "base_uri": "https://localhost:8080/",
          "height": 34
        }
      },
      "source": [
        "np.__version__"
      ],
      "execution_count": 81,
      "outputs": [
        {
          "output_type": "execute_result",
          "data": {
            "text/plain": [
              "'1.16.4'"
            ]
          },
          "metadata": {
            "tags": []
          },
          "execution_count": 81
        }
      ]
    },
    {
      "cell_type": "markdown",
      "metadata": {
        "id": "0vkg7Br-KKcB",
        "colab_type": "text"
      },
      "source": [
        "### Arrays 🚖"
      ]
    },
    {
      "cell_type": "markdown",
      "metadata": {
        "id": "NfnHIM-RKKcC",
        "colab_type": "text"
      },
      "source": [
        "An **array** is collection of items stored at contiguous memory locations. At the heart of a Numpy library is the array object or the ndarray object (n-dimensional array).  Simply put, it is a table of elements (usually numbers and the same type) indexed by a tuple of positive integers. In NumPy dimensions are called **axes**. The number of axes is referred to as **rank**. \n",
        "<br/>\n",
        "Let's create an 1D array of  **taxi rates** (in dollars) by passing it through a list: "
      ]
    },
    {
      "cell_type": "code",
      "metadata": {
        "id": "nDUZfgg5KKcC",
        "colab_type": "code",
        "colab": {}
      },
      "source": [
        "a = np.array([12.50, 10.20, 25])"
      ],
      "execution_count": 0,
      "outputs": []
    },
    {
      "cell_type": "code",
      "metadata": {
        "id": "NjUHxfHJKKcE",
        "colab_type": "code",
        "outputId": "09d12f97-201c-443f-d38c-d2c2ca39af5e",
        "colab": {
          "base_uri": "https://localhost:8080/",
          "height": 34
        }
      },
      "source": [
        "a"
      ],
      "execution_count": 83,
      "outputs": [
        {
          "output_type": "execute_result",
          "data": {
            "text/plain": [
              "array([12.5, 10.2, 25. ])"
            ]
          },
          "metadata": {
            "tags": []
          },
          "execution_count": 83
        }
      ]
    },
    {
      "cell_type": "markdown",
      "metadata": {
        "id": "Yw6X4FpkKKcH",
        "colab_type": "text"
      },
      "source": [
        "Awesome! 👏 Let's now create an multi-dimensional array. "
      ]
    },
    {
      "cell_type": "code",
      "metadata": {
        "id": "zXL1mAmiKKcI",
        "colab_type": "code",
        "colab": {}
      },
      "source": [
        "b = np.array([\n",
        "    [19.50, 13, 12, 11 ],\n",
        "    [12.50, 10, 25, 14]])"
      ],
      "execution_count": 0,
      "outputs": []
    },
    {
      "cell_type": "code",
      "metadata": {
        "id": "kfjB-dPgKKcJ",
        "colab_type": "code",
        "outputId": "5e61d1fb-94ec-4fc1-e4da-f369f7a1b285",
        "colab": {
          "base_uri": "https://localhost:8080/",
          "height": 52
        }
      },
      "source": [
        "b"
      ],
      "execution_count": 85,
      "outputs": [
        {
          "output_type": "execute_result",
          "data": {
            "text/plain": [
              "array([[19.5, 13. , 12. , 11. ],\n",
              "       [12.5, 10. , 25. , 14. ]])"
            ]
          },
          "metadata": {
            "tags": []
          },
          "execution_count": 85
        }
      ]
    },
    {
      "cell_type": "markdown",
      "metadata": {
        "id": "I2dG_H82KKcL",
        "colab_type": "text"
      },
      "source": [
        "## Exercise 1:  Arrays ⛷"
      ]
    },
    {
      "cell_type": "markdown",
      "metadata": {
        "id": "k_Bai-nKKKcM",
        "colab_type": "text"
      },
      "source": [
        "Time for our first exercise! \n",
        "- Create an NumPy single - dimensional array and assign it to a variable that describes the following situation:\n",
        "    - Find the weather for the past 5 days in your favorite city, and enter it into the array.\n",
        "- Create another NumPy single - dimensional array and assign it that describes the following situation:\n",
        "    - Write your 5 favorite numbers.\n",
        "- Can you try adding the two arrays? How about subtracting? "
      ]
    },
    {
      "cell_type": "code",
      "metadata": {
        "id": "AMK_EEYFKKcM",
        "colab_type": "code",
        "colab": {}
      },
      "source": [
        ""
      ],
      "execution_count": 0,
      "outputs": []
    },
    {
      "cell_type": "code",
      "metadata": {
        "id": "IrJ1CWYcKKcN",
        "colab_type": "code",
        "colab": {}
      },
      "source": [
        ""
      ],
      "execution_count": 0,
      "outputs": []
    },
    {
      "cell_type": "code",
      "metadata": {
        "id": "c2lFrOXFKKcO",
        "colab_type": "code",
        "colab": {}
      },
      "source": [
        ""
      ],
      "execution_count": 0,
      "outputs": []
    },
    {
      "cell_type": "code",
      "metadata": {
        "id": "Ro5iiFasKKcP",
        "colab_type": "code",
        "colab": {}
      },
      "source": [
        ""
      ],
      "execution_count": 0,
      "outputs": []
    },
    {
      "cell_type": "markdown",
      "metadata": {
        "id": "kvgbO5Z_KKcR",
        "colab_type": "text"
      },
      "source": [
        "### Methods ⛵️"
      ]
    },
    {
      "cell_type": "markdown",
      "metadata": {
        "id": "7HZaOocAKKcR",
        "colab_type": "text"
      },
      "source": [
        "🎉 Let's now explore some of the methods in NumPy. The [**.shape**](https://docs.scipy.org/doc/numpy/reference/generated/numpy.ndarray.shape.html) method for nparray returns the dimensions of the given array. For example, [x].shape returns the (vertical, horizontal) dimensions of the variable x. Let's use .shape to find the dimensions of the multi-dimensional array that we've created above:"
      ]
    },
    {
      "cell_type": "code",
      "metadata": {
        "id": "wqNlN3rOKKcS",
        "colab_type": "code",
        "outputId": "e180afc6-fd4f-4eba-8798-0f8872fccf98",
        "colab": {
          "base_uri": "https://localhost:8080/",
          "height": 34
        }
      },
      "source": [
        "b.shape"
      ],
      "execution_count": 86,
      "outputs": [
        {
          "output_type": "execute_result",
          "data": {
            "text/plain": [
              "(2, 4)"
            ]
          },
          "metadata": {
            "tags": []
          },
          "execution_count": 86
        }
      ]
    },
    {
      "cell_type": "markdown",
      "metadata": {
        "id": "wc48ME-lKKcT",
        "colab_type": "text"
      },
      "source": [
        "The [**.linspace**](https://docs.scipy.org/doc/numpy/reference/generated/numpy.linspace.html) method is used to return evenly spaced numbers over a specified interval. Let's create an array of 6 integers between 0 and 100 to demonstrate this method: "
      ]
    },
    {
      "cell_type": "code",
      "metadata": {
        "scrolled": true,
        "id": "FnUeQq9wKKcU",
        "colab_type": "code",
        "outputId": "5d065cab-ad88-4178-b90c-1c0e95ef4ca2",
        "colab": {
          "base_uri": "https://localhost:8080/",
          "height": 34
        }
      },
      "source": [
        "np.linspace(0,100,6)"
      ],
      "execution_count": 87,
      "outputs": [
        {
          "output_type": "execute_result",
          "data": {
            "text/plain": [
              "array([  0.,  20.,  40.,  60.,  80., 100.])"
            ]
          },
          "metadata": {
            "tags": []
          },
          "execution_count": 87
        }
      ]
    },
    {
      "cell_type": "markdown",
      "metadata": {
        "id": "087T2UAcKKcW",
        "colab_type": "text"
      },
      "source": [
        "How about if we wanted to decide the step? The [**.arange**](https://docs.scipy.org/doc/numpy/reference/generated/numpy.linspace.html) method allows us to return evenly spaced values within an given interval:"
      ]
    },
    {
      "cell_type": "code",
      "metadata": {
        "id": "-f6sV7WmKKcW",
        "colab_type": "code",
        "outputId": "399a7c91-e987-49a5-fe86-874548c993d2",
        "colab": {
          "base_uri": "https://localhost:8080/",
          "height": 34
        }
      },
      "source": [
        "np.arange(0,10,3)"
      ],
      "execution_count": 88,
      "outputs": [
        {
          "output_type": "execute_result",
          "data": {
            "text/plain": [
              "array([0, 3, 6, 9])"
            ]
          },
          "metadata": {
            "tags": []
          },
          "execution_count": 88
        }
      ]
    },
    {
      "cell_type": "markdown",
      "metadata": {
        "id": "5S10euQrKKcY",
        "colab_type": "text"
      },
      "source": [
        "Yay! 🙌 What if we didn't want to define the interval or the step? The [**.random.rand**](https://docs.scipy.org/doc/numpy/reference/generated/numpy.random.rand.html) accomplishes this purpose by creating an array of a specified shape and fills it with random values. Let's create a 4 x 5 array of random floats between 0-1:"
      ]
    },
    {
      "cell_type": "code",
      "metadata": {
        "scrolled": true,
        "id": "GnqUmK-4KKcZ",
        "colab_type": "code",
        "outputId": "ab168cd7-3ce3-49cb-ae10-a4d595a26c08",
        "colab": {
          "base_uri": "https://localhost:8080/",
          "height": 86
        }
      },
      "source": [
        "np.random.rand(4,5)"
      ],
      "execution_count": 89,
      "outputs": [
        {
          "output_type": "execute_result",
          "data": {
            "text/plain": [
              "array([[0.21169218, 0.21756682, 0.42160853, 0.5554139 , 0.39678203],\n",
              "       [0.49385977, 0.05163388, 0.81263453, 0.62887314, 0.04749748],\n",
              "       [0.40060662, 0.24442058, 0.97055228, 0.98118572, 0.00222371],\n",
              "       [0.91161915, 0.29518301, 0.61810159, 0.66974093, 0.52110215]])"
            ]
          },
          "metadata": {
            "tags": []
          },
          "execution_count": 89
        }
      ]
    },
    {
      "cell_type": "markdown",
      "metadata": {
        "id": "mA9K9rq_KKcb",
        "colab_type": "text"
      },
      "source": [
        "If we want to increase the size of the floats between an certain interval (0-100), we can simply multiply by the highest digit in that interval: "
      ]
    },
    {
      "cell_type": "code",
      "metadata": {
        "id": "WNPNeWe7KKcc",
        "colab_type": "code",
        "outputId": "9bd867ec-72fc-426d-8409-eb7d9c7a3641",
        "colab": {
          "base_uri": "https://localhost:8080/",
          "height": 86
        }
      },
      "source": [
        "np.random.rand(4,5)*100"
      ],
      "execution_count": 90,
      "outputs": [
        {
          "output_type": "execute_result",
          "data": {
            "text/plain": [
              "array([[37.89394109, 39.01888373,  7.19390801, 78.56695057, 21.98777002],\n",
              "       [43.98809136, 67.59269165, 52.03023202, 69.16343929, 54.19039969],\n",
              "       [22.84305153, 24.25193141, 81.13424165, 42.65361867, 36.62807504],\n",
              "       [52.88250217, 39.07914674, 41.17361747, 37.57134299, 29.09987626]])"
            ]
          },
          "metadata": {
            "tags": []
          },
          "execution_count": 90
        }
      ]
    },
    {
      "cell_type": "markdown",
      "metadata": {
        "id": "C1huCd_VKKce",
        "colab_type": "text"
      },
      "source": [
        "We can also explore some of the properties of the array. The [**.dtype**](https://docs.scipy.org/doc/numpy/reference/arrays.dtypes.html)  method outputs the type of elements in an given array:"
      ]
    },
    {
      "cell_type": "code",
      "metadata": {
        "id": "9iOKWg0RKKce",
        "colab_type": "code",
        "colab": {}
      },
      "source": [
        "c = np.arange(0,10,3)"
      ],
      "execution_count": 0,
      "outputs": []
    },
    {
      "cell_type": "code",
      "metadata": {
        "id": "epO-qdqMKKcf",
        "colab_type": "code",
        "outputId": "ecf59a1c-07a8-4146-9d0d-cf814e995732",
        "colab": {
          "base_uri": "https://localhost:8080/",
          "height": 34
        }
      },
      "source": [
        "c.dtype"
      ],
      "execution_count": 92,
      "outputs": [
        {
          "output_type": "execute_result",
          "data": {
            "text/plain": [
              "dtype('int64')"
            ]
          },
          "metadata": {
            "tags": []
          },
          "execution_count": 92
        }
      ]
    },
    {
      "cell_type": "markdown",
      "metadata": {
        "id": "5t-BnlMuKKci",
        "colab_type": "text"
      },
      "source": [
        "Kudos! **int64** simply means that the elements in the array are integers. Remember that NumPy arrays only support an *singular* data type for each array unlike Python arrays. "
      ]
    },
    {
      "cell_type": "markdown",
      "metadata": {
        "id": "7hw-t9USKKci",
        "colab_type": "text"
      },
      "source": [
        "## Exercise 2: Methods 🏃"
      ]
    },
    {
      "cell_type": "markdown",
      "metadata": {
        "id": "XYiYhMliKKci",
        "colab_type": "text"
      },
      "source": [
        "Time to test our skills!"
      ]
    },
    {
      "cell_type": "markdown",
      "metadata": {
        "id": "McnS13TaKKcj",
        "colab_type": "text"
      },
      "source": [
        "- Using the **.shape** method, find the dimensions of the array containing the weather of your favorite city. \n",
        "- Use the **.linspace** method to create an array of 5 integers between 15 and 45\n",
        "- Create a 3x6 array using the **.random.rand()** method"
      ]
    },
    {
      "cell_type": "code",
      "metadata": {
        "id": "bHTvNVJdKKcj",
        "colab_type": "code",
        "colab": {}
      },
      "source": [
        ""
      ],
      "execution_count": 0,
      "outputs": []
    },
    {
      "cell_type": "code",
      "metadata": {
        "id": "cXjlf7W5KKck",
        "colab_type": "code",
        "colab": {}
      },
      "source": [
        ""
      ],
      "execution_count": 0,
      "outputs": []
    },
    {
      "cell_type": "markdown",
      "metadata": {
        "id": "NMzjIw1KKKcl",
        "colab_type": "text"
      },
      "source": [
        "## Operations "
      ]
    },
    {
      "cell_type": "markdown",
      "metadata": {
        "id": "CC561yHBKKcl",
        "colab_type": "text"
      },
      "source": [
        "NumPy offers the ability to compute arrays together. "
      ]
    },
    {
      "cell_type": "code",
      "metadata": {
        "id": "f33m7hEfKKcl",
        "colab_type": "code",
        "colab": {}
      },
      "source": [
        "x = np.array([3,4,5])"
      ],
      "execution_count": 0,
      "outputs": []
    },
    {
      "cell_type": "code",
      "metadata": {
        "id": "vw3NHRzzKKcm",
        "colab_type": "code",
        "colab": {}
      },
      "source": [
        "y = np.array([1,2,3])"
      ],
      "execution_count": 0,
      "outputs": []
    },
    {
      "cell_type": "markdown",
      "metadata": {
        "id": "S6lON11SKKcn",
        "colab_type": "text"
      },
      "source": [
        "We can use traditional math symbols to add, subtract, multiply, and divide the two arrays: "
      ]
    },
    {
      "cell_type": "code",
      "metadata": {
        "id": "bQJyXZ7jKKcn",
        "colab_type": "code",
        "outputId": "e8dafccf-9c74-45c7-e1f8-af83a9a98c54",
        "colab": {
          "base_uri": "https://localhost:8080/",
          "height": 104
        }
      },
      "source": [
        "print(x + y)\n",
        "print(x - y)\n",
        "print(x * y)\n",
        "print(x / y)\n",
        "print(x**2)"
      ],
      "execution_count": 95,
      "outputs": [
        {
          "output_type": "stream",
          "text": [
            "[4 6 8]\n",
            "[2 2 2]\n",
            "[ 3  8 15]\n",
            "[3.         2.         1.66666667]\n",
            "[ 9 16 25]\n"
          ],
          "name": "stdout"
        }
      ]
    },
    {
      "cell_type": "markdown",
      "metadata": {
        "id": "NA9kJJ3WKKcp",
        "colab_type": "text"
      },
      "source": [
        "## Scalar Math"
      ]
    },
    {
      "cell_type": "markdown",
      "metadata": {
        "id": "RU3du0U6KKcp",
        "colab_type": "text"
      },
      "source": [
        "We can use basic functions to add, subtract, multiply, divide, and power the array:"
      ]
    },
    {
      "cell_type": "code",
      "metadata": {
        "id": "Ty8_QhprKKcp",
        "colab_type": "code",
        "outputId": "5731106b-5bdf-4761-b6be-4e06daa05245",
        "colab": {
          "base_uri": "https://localhost:8080/",
          "height": 34
        }
      },
      "source": [
        "np.add(x,1)"
      ],
      "execution_count": 96,
      "outputs": [
        {
          "output_type": "execute_result",
          "data": {
            "text/plain": [
              "array([4, 5, 6])"
            ]
          },
          "metadata": {
            "tags": []
          },
          "execution_count": 96
        }
      ]
    },
    {
      "cell_type": "code",
      "metadata": {
        "id": "6Z4nK4UDKKcr",
        "colab_type": "code",
        "outputId": "0a628030-e821-413b-b24a-8819a67cd706",
        "colab": {
          "base_uri": "https://localhost:8080/",
          "height": 34
        }
      },
      "source": [
        "np.subtract(x,2)"
      ],
      "execution_count": 97,
      "outputs": [
        {
          "output_type": "execute_result",
          "data": {
            "text/plain": [
              "array([1, 2, 3])"
            ]
          },
          "metadata": {
            "tags": []
          },
          "execution_count": 97
        }
      ]
    },
    {
      "cell_type": "code",
      "metadata": {
        "id": "W8xNSNODKKcs",
        "colab_type": "code",
        "outputId": "1191e802-aa8d-4a3a-a250-a0bd79dd0bb3",
        "colab": {
          "base_uri": "https://localhost:8080/",
          "height": 34
        }
      },
      "source": [
        "np.multiply(x,3)"
      ],
      "execution_count": 98,
      "outputs": [
        {
          "output_type": "execute_result",
          "data": {
            "text/plain": [
              "array([ 9, 12, 15])"
            ]
          },
          "metadata": {
            "tags": []
          },
          "execution_count": 98
        }
      ]
    },
    {
      "cell_type": "code",
      "metadata": {
        "id": "qTGgDdteKKct",
        "colab_type": "code",
        "outputId": "1540f9f2-9c49-49e9-e28c-a00471aad17e",
        "colab": {
          "base_uri": "https://localhost:8080/",
          "height": 34
        }
      },
      "source": [
        "np.divide(x,4)"
      ],
      "execution_count": 99,
      "outputs": [
        {
          "output_type": "execute_result",
          "data": {
            "text/plain": [
              "array([0.75, 1.  , 1.25])"
            ]
          },
          "metadata": {
            "tags": []
          },
          "execution_count": 99
        }
      ]
    },
    {
      "cell_type": "code",
      "metadata": {
        "id": "u-Cf5OfBKKcu",
        "colab_type": "code",
        "outputId": "dec3006c-5004-4401-cb94-29237fc07420",
        "colab": {
          "base_uri": "https://localhost:8080/",
          "height": 34
        }
      },
      "source": [
        "np.power(x,5)"
      ],
      "execution_count": 100,
      "outputs": [
        {
          "output_type": "execute_result",
          "data": {
            "text/plain": [
              "array([ 243, 1024, 3125])"
            ]
          },
          "metadata": {
            "tags": []
          },
          "execution_count": 100
        }
      ]
    },
    {
      "cell_type": "markdown",
      "metadata": {
        "id": "SfOGy3YXKKcv",
        "colab_type": "text"
      },
      "source": [
        "## Indexing, Slicing and Reshaping 🔭"
      ]
    },
    {
      "cell_type": "markdown",
      "metadata": {
        "id": "oGZo5zPWKKcw",
        "colab_type": "text"
      },
      "source": [
        "Now, we're going to explore some of the functions in Python. First, let's create an array with 12 numbers using the **arange** method in increments of 5:"
      ]
    },
    {
      "cell_type": "code",
      "metadata": {
        "id": "u8nJkGpqKKcw",
        "colab_type": "code",
        "outputId": "300c041b-5b34-4f07-f8b8-cf4ccdb93abe",
        "colab": {
          "base_uri": "https://localhost:8080/",
          "height": 34
        }
      },
      "source": [
        "s = np.arange(12)*5\n",
        "s"
      ],
      "execution_count": 101,
      "outputs": [
        {
          "output_type": "execute_result",
          "data": {
            "text/plain": [
              "array([ 0,  5, 10, 15, 20, 25, 30, 35, 40, 45, 50, 55])"
            ]
          },
          "metadata": {
            "tags": []
          },
          "execution_count": 101
        }
      ]
    },
    {
      "cell_type": "markdown",
      "metadata": {
        "id": "KFKdNcVCKKcx",
        "colab_type": "text"
      },
      "source": [
        "**Indexing** refers to retrieving a specific element of an array. Let's find the 3rd value in the above array:"
      ]
    },
    {
      "cell_type": "code",
      "metadata": {
        "id": "it-5rQ-AKKcx",
        "colab_type": "code",
        "outputId": "3f4c9c9e-c7c6-44bc-c131-85a56a4bd832",
        "colab": {
          "base_uri": "https://localhost:8080/",
          "height": 34
        }
      },
      "source": [
        "s[2]"
      ],
      "execution_count": 102,
      "outputs": [
        {
          "output_type": "execute_result",
          "data": {
            "text/plain": [
              "10"
            ]
          },
          "metadata": {
            "tags": []
          },
          "execution_count": 102
        }
      ]
    },
    {
      "cell_type": "markdown",
      "metadata": {
        "id": "40b-h-2JKKcy",
        "colab_type": "text"
      },
      "source": [
        "**Note**: The values of an array always start with x[0]. We can also retrieve values within an certain range using the **:** symbol:"
      ]
    },
    {
      "cell_type": "code",
      "metadata": {
        "id": "2BP_MEpXKKcz",
        "colab_type": "code",
        "outputId": "87df9799-964c-4ede-bd84-42f9a89a88ea",
        "colab": {
          "base_uri": "https://localhost:8080/",
          "height": 34
        }
      },
      "source": [
        "s[2:5]"
      ],
      "execution_count": 103,
      "outputs": [
        {
          "output_type": "execute_result",
          "data": {
            "text/plain": [
              "array([10, 15, 20])"
            ]
          },
          "metadata": {
            "tags": []
          },
          "execution_count": 103
        }
      ]
    },
    {
      "cell_type": "markdown",
      "metadata": {
        "id": "0f4WW1dyKKc0",
        "colab_type": "text"
      },
      "source": [
        "😎 Now, let's try combining two arrays using [**concatenate( )**](https://docs.scipy.org/doc/numpy/reference/generated/numpy.concatenate.html) and add 'a' as rows to the end of 's':"
      ]
    },
    {
      "cell_type": "code",
      "metadata": {
        "id": "zZhuYVWVKKc0",
        "colab_type": "code",
        "outputId": "09b5778e-f856-4a94-a948-dd61e764c1a8",
        "colab": {
          "base_uri": "https://localhost:8080/",
          "height": 52
        }
      },
      "source": [
        "np.concatenate((s,a),axis=0)"
      ],
      "execution_count": 104,
      "outputs": [
        {
          "output_type": "execute_result",
          "data": {
            "text/plain": [
              "array([ 0. ,  5. , 10. , 15. , 20. , 25. , 30. , 35. , 40. , 45. , 50. ,\n",
              "       55. , 12.5, 10.2, 25. ])"
            ]
          },
          "metadata": {
            "tags": []
          },
          "execution_count": 104
        }
      ]
    },
    {
      "cell_type": "markdown",
      "metadata": {
        "id": "Lzdq-SN9KKc1",
        "colab_type": "text"
      },
      "source": [
        "🙌 How about splitting arrays? We can use the [**.split()**](https://docs.scipy.org/doc/numpy/reference/generated/numpy.concatenate.html) method to split the s array in sub-arrays:"
      ]
    },
    {
      "cell_type": "code",
      "metadata": {
        "id": "iFxWISKcKKc2",
        "colab_type": "code",
        "outputId": "0d1d7193-b5b3-47ee-bc55-03b4f1e359a5",
        "colab": {
          "base_uri": "https://localhost:8080/",
          "height": 34
        }
      },
      "source": [
        "z = np.arange(9.0)\n",
        "z"
      ],
      "execution_count": 105,
      "outputs": [
        {
          "output_type": "execute_result",
          "data": {
            "text/plain": [
              "array([0., 1., 2., 3., 4., 5., 6., 7., 8.])"
            ]
          },
          "metadata": {
            "tags": []
          },
          "execution_count": 105
        }
      ]
    },
    {
      "cell_type": "code",
      "metadata": {
        "id": "_JM8BwQcKKc3",
        "colab_type": "code",
        "outputId": "4a5718a5-c5c4-4a16-ab8f-c98584d95d2e",
        "colab": {
          "base_uri": "https://localhost:8080/",
          "height": 34
        }
      },
      "source": [
        "np.split(x, 3)"
      ],
      "execution_count": 106,
      "outputs": [
        {
          "output_type": "execute_result",
          "data": {
            "text/plain": [
              "[array([3]), array([4]), array([5])]"
            ]
          },
          "metadata": {
            "tags": []
          },
          "execution_count": 106
        }
      ]
    },
    {
      "cell_type": "markdown",
      "metadata": {
        "id": "GAZ7v5w8KKc4",
        "colab_type": "text"
      },
      "source": [
        "## Exercise: Indexing, Slicing and Reshaping"
      ]
    },
    {
      "cell_type": "markdown",
      "metadata": {
        "id": "5bAZWakZKKc4",
        "colab_type": "text"
      },
      "source": [
        "Time for a test!"
      ]
    },
    {
      "cell_type": "markdown",
      "metadata": {
        "id": "yGbwUaHwKKc4",
        "colab_type": "text"
      },
      "source": [
        "- Using the **arange** method, create an array of 5 numbers in increments of 10\n",
        "- Retrieve the 3rd number in the above array named 'oreo'\n",
        "- Create another array using any method you'd like, and create an array of 5 numbers in increments of 15.\n",
        "- Retrive the 1st number in the above array named 'milk' <br>\n",
        "Can you eat those many oreos and drink that many cups of milk? You decide! 🥛 "
      ]
    },
    {
      "cell_type": "markdown",
      "metadata": {
        "id": "eqbcMLWOKKc4",
        "colab_type": "text"
      },
      "source": [
        "😀 We've completed our review of NumPy! After you take a quick break - walk around, drink water - let's move on to Pandas. "
      ]
    },
    {
      "cell_type": "markdown",
      "metadata": {
        "id": "WfqaMtQ-KKc4",
        "colab_type": "text"
      },
      "source": [
        "# Pandas: An Introduction 🐼 "
      ]
    },
    {
      "cell_type": "markdown",
      "metadata": {
        "id": "fdnANq-9KKc5",
        "colab_type": "text"
      },
      "source": [
        "Pandas is an open source Python package that provides numerous tools for data analysis. Pandas provides </br> fast, flexible, and expressive data structures designed to make working with structured (tabular, multidimensional, potentially heterogeneous) and time series data both easy and intuitive. It aims to be <br> the fundamental high-level building block for doing practical, real world data analysis in Python. \n",
        "\n",
        "We'll take look at some of the core ideas in Pandas here. You can learn more about Pandas in their official [documentation](http://pandas.pydata.org)."
      ]
    },
    {
      "cell_type": "markdown",
      "metadata": {
        "id": "4DM2GJ-9KKc5",
        "colab_type": "text"
      },
      "source": [
        "## [Pandas Series](https://pandas.pydata.org/pandas-docs/stable/reference/api/pandas.Series.html) ❄️"
      ]
    },
    {
      "cell_type": "markdown",
      "metadata": {
        "id": "zqgi1nU3KKc5",
        "colab_type": "text"
      },
      "source": [
        "A **Series** is similar to an one dimensional array and can store data of any type. The values of a Pandas Series are mutable but the size of a Series is immutable and cannot be changed.<br>\n",
        "The first element in the series is assigned the index 0, while the last element is at index N-1, where N is the total number of elements in the series."
      ]
    },
    {
      "cell_type": "markdown",
      "metadata": {
        "id": "6VIa2HCGKKc5",
        "colab_type": "text"
      },
      "source": [
        "Let's first **import** pandas under the common alias **pd**:"
      ]
    },
    {
      "cell_type": "code",
      "metadata": {
        "id": "9VyI95ekKKc5",
        "colab_type": "code",
        "colab": {}
      },
      "source": [
        "import pandas as pd"
      ],
      "execution_count": 0,
      "outputs": []
    },
    {
      "cell_type": "markdown",
      "metadata": {
        "id": "EO-qBtXSKKc6",
        "colab_type": "text"
      },
      "source": [
        "### Creating a Pandas Series"
      ]
    },
    {
      "cell_type": "markdown",
      "metadata": {
        "id": "EhnXEyJhKKc6",
        "colab_type": "text"
      },
      "source": [
        "We can create a series by invoking the pd.Series( ) method, like this: "
      ]
    },
    {
      "cell_type": "code",
      "metadata": {
        "id": "M5ib0-EyKKc6",
        "colab_type": "code",
        "colab": {}
      },
      "source": [
        "decades = pd.Series(np.array([10,20,30,40,50,60])) "
      ],
      "execution_count": 0,
      "outputs": []
    },
    {
      "cell_type": "code",
      "metadata": {
        "id": "3ySUr90TKKc7",
        "colab_type": "code",
        "outputId": "7f029c5c-1916-42d5-897c-431558561d61",
        "colab": {
          "base_uri": "https://localhost:8080/",
          "height": 138
        }
      },
      "source": [
        "decades"
      ],
      "execution_count": 109,
      "outputs": [
        {
          "output_type": "execute_result",
          "data": {
            "text/plain": [
              "0    10\n",
              "1    20\n",
              "2    30\n",
              "3    40\n",
              "4    50\n",
              "5    60\n",
              "dtype: int64"
            ]
          },
          "metadata": {
            "tags": []
          },
          "execution_count": 109
        }
      ]
    },
    {
      "cell_type": "markdown",
      "metadata": {
        "id": "iQVRDE8hKKc8",
        "colab_type": "text"
      },
      "source": [
        "As shown above, the index is assigned values from 0-5. "
      ]
    },
    {
      "cell_type": "markdown",
      "metadata": {
        "id": "87_wqVs5KKc8",
        "colab_type": "text"
      },
      "source": [
        "## Exercise: Pandas Series🎿"
      ]
    },
    {
      "cell_type": "markdown",
      "metadata": {
        "id": "REG7WpeOKKc8",
        "colab_type": "text"
      },
      "source": [
        "Exercise time!"
      ]
    },
    {
      "cell_type": "markdown",
      "metadata": {
        "id": "nOpmyZmPKKc9",
        "colab_type": "text"
      },
      "source": [
        "- Create a Series for the lowest GDP's in the world:\n",
        "    - Czech Republic: 264.50\n",
        "    - Iraq:\t250.07\n",
        "    - Romania: 248.84\n",
        "    - Portugal:\t242.83\t\n",
        "\n",
        "Tip: Remember that you can use the .reindex() method!"
      ]
    },
    {
      "cell_type": "markdown",
      "metadata": {
        "id": "2jjaY7yYKKc9",
        "colab_type": "text"
      },
      "source": [
        "## [Pandas DataFrame](https://pandas.pydata.org/pandas-docs/stable/reference/api/pandas.DataFrame.html) 🐨"
      ]
    },
    {
      "cell_type": "markdown",
      "metadata": {
        "id": "ASC15gj_KKc9",
        "colab_type": "text"
      },
      "source": [
        "The DataFrame is similar to a table. It organizes data into rows and columns as an two-dimensional data structure. The columns can be of different types, and the size of a DataFrame is modifiable. <br>\n",
        "Let's create a DataFrame of seven professors, populated with room numbers and subject. First, let's will create a Python dictionary. "
      ]
    },
    {
      "cell_type": "code",
      "metadata": {
        "id": "vNcT0_XVKKc9",
        "colab_type": "code",
        "colab": {}
      },
      "source": [
        "n = {\n",
        "     'Name' : [\"Mrs. A\", \"Mr. B\", \"Mr. C\", \"Mr. D\", \"Mr. E\",\"Mrs.F \", \"Mrs. G\"],\n",
        "     'Room Number' : [119,227, 221, 136, 110,142, 231],\n",
        "     'Subject': [\"Mathematics\", \"Philosophy\", \"Language\", \"Statistics\", \"Economics\", \"Language\", \"Psychology\"], \n",
        "     'Total Students' : [123, 280, 500, 340, 112, 151, 141] \n",
        "}"
      ],
      "execution_count": 0,
      "outputs": []
    },
    {
      "cell_type": "markdown",
      "metadata": {
        "id": "ZDTmV7eEKKc-",
        "colab_type": "text"
      },
      "source": [
        "Now, let's turn our Python dictionary into a DataFrame:"
      ]
    },
    {
      "cell_type": "code",
      "metadata": {
        "id": "UzIddfJFKKc-",
        "colab_type": "code",
        "outputId": "16fbe7c8-de4c-4f12-b556-1a61da1187ca",
        "colab": {
          "base_uri": "https://localhost:8080/",
          "height": 264
        }
      },
      "source": [
        "df1 = pd.DataFrame(n)\n",
        "df1"
      ],
      "execution_count": 111,
      "outputs": [
        {
          "output_type": "execute_result",
          "data": {
            "text/html": [
              "<div>\n",
              "<style scoped>\n",
              "    .dataframe tbody tr th:only-of-type {\n",
              "        vertical-align: middle;\n",
              "    }\n",
              "\n",
              "    .dataframe tbody tr th {\n",
              "        vertical-align: top;\n",
              "    }\n",
              "\n",
              "    .dataframe thead th {\n",
              "        text-align: right;\n",
              "    }\n",
              "</style>\n",
              "<table border=\"1\" class=\"dataframe\">\n",
              "  <thead>\n",
              "    <tr style=\"text-align: right;\">\n",
              "      <th></th>\n",
              "      <th>Name</th>\n",
              "      <th>Room Number</th>\n",
              "      <th>Subject</th>\n",
              "      <th>Total Students</th>\n",
              "    </tr>\n",
              "  </thead>\n",
              "  <tbody>\n",
              "    <tr>\n",
              "      <th>0</th>\n",
              "      <td>Mrs. A</td>\n",
              "      <td>119</td>\n",
              "      <td>Mathematics</td>\n",
              "      <td>123</td>\n",
              "    </tr>\n",
              "    <tr>\n",
              "      <th>1</th>\n",
              "      <td>Mr. B</td>\n",
              "      <td>227</td>\n",
              "      <td>Philosophy</td>\n",
              "      <td>280</td>\n",
              "    </tr>\n",
              "    <tr>\n",
              "      <th>2</th>\n",
              "      <td>Mr. C</td>\n",
              "      <td>221</td>\n",
              "      <td>Language</td>\n",
              "      <td>500</td>\n",
              "    </tr>\n",
              "    <tr>\n",
              "      <th>3</th>\n",
              "      <td>Mr. D</td>\n",
              "      <td>136</td>\n",
              "      <td>Statistics</td>\n",
              "      <td>340</td>\n",
              "    </tr>\n",
              "    <tr>\n",
              "      <th>4</th>\n",
              "      <td>Mr. E</td>\n",
              "      <td>110</td>\n",
              "      <td>Economics</td>\n",
              "      <td>112</td>\n",
              "    </tr>\n",
              "    <tr>\n",
              "      <th>5</th>\n",
              "      <td>Mrs.F</td>\n",
              "      <td>142</td>\n",
              "      <td>Language</td>\n",
              "      <td>151</td>\n",
              "    </tr>\n",
              "    <tr>\n",
              "      <th>6</th>\n",
              "      <td>Mrs. G</td>\n",
              "      <td>231</td>\n",
              "      <td>Psychology</td>\n",
              "      <td>141</td>\n",
              "    </tr>\n",
              "  </tbody>\n",
              "</table>\n",
              "</div>"
            ],
            "text/plain": [
              "     Name  Room Number      Subject  Total Students\n",
              "0  Mrs. A          119  Mathematics             123\n",
              "1   Mr. B          227   Philosophy             280\n",
              "2   Mr. C          221     Language             500\n",
              "3   Mr. D          136   Statistics             340\n",
              "4   Mr. E          110    Economics             112\n",
              "5  Mrs.F           142     Language             151\n",
              "6  Mrs. G          231   Psychology             141"
            ]
          },
          "metadata": {
            "tags": []
          },
          "execution_count": 111
        }
      ]
    },
    {
      "cell_type": "markdown",
      "metadata": {
        "id": "p6sNFIKtKKc_",
        "colab_type": "text"
      },
      "source": [
        "Notice how Pandas automatically generates an index for the table. We can edit the index by: "
      ]
    },
    {
      "cell_type": "code",
      "metadata": {
        "id": "l4Pe1jm2KKc_",
        "colab_type": "code",
        "outputId": "e493dc6c-3ea4-40eb-b407-67c7c75cbde7",
        "colab": {
          "base_uri": "https://localhost:8080/",
          "height": 264
        }
      },
      "source": [
        "df1 = pd.DataFrame(\n",
        "     n, \n",
        "     index=[\"First\", \"Second\", \"Third\", \"Fourth\", \"Fifth\", \"Sixth\", \"Seventh\"]\n",
        ")\n",
        "df1"
      ],
      "execution_count": 112,
      "outputs": [
        {
          "output_type": "execute_result",
          "data": {
            "text/html": [
              "<div>\n",
              "<style scoped>\n",
              "    .dataframe tbody tr th:only-of-type {\n",
              "        vertical-align: middle;\n",
              "    }\n",
              "\n",
              "    .dataframe tbody tr th {\n",
              "        vertical-align: top;\n",
              "    }\n",
              "\n",
              "    .dataframe thead th {\n",
              "        text-align: right;\n",
              "    }\n",
              "</style>\n",
              "<table border=\"1\" class=\"dataframe\">\n",
              "  <thead>\n",
              "    <tr style=\"text-align: right;\">\n",
              "      <th></th>\n",
              "      <th>Name</th>\n",
              "      <th>Room Number</th>\n",
              "      <th>Subject</th>\n",
              "      <th>Total Students</th>\n",
              "    </tr>\n",
              "  </thead>\n",
              "  <tbody>\n",
              "    <tr>\n",
              "      <th>First</th>\n",
              "      <td>Mrs. A</td>\n",
              "      <td>119</td>\n",
              "      <td>Mathematics</td>\n",
              "      <td>123</td>\n",
              "    </tr>\n",
              "    <tr>\n",
              "      <th>Second</th>\n",
              "      <td>Mr. B</td>\n",
              "      <td>227</td>\n",
              "      <td>Philosophy</td>\n",
              "      <td>280</td>\n",
              "    </tr>\n",
              "    <tr>\n",
              "      <th>Third</th>\n",
              "      <td>Mr. C</td>\n",
              "      <td>221</td>\n",
              "      <td>Language</td>\n",
              "      <td>500</td>\n",
              "    </tr>\n",
              "    <tr>\n",
              "      <th>Fourth</th>\n",
              "      <td>Mr. D</td>\n",
              "      <td>136</td>\n",
              "      <td>Statistics</td>\n",
              "      <td>340</td>\n",
              "    </tr>\n",
              "    <tr>\n",
              "      <th>Fifth</th>\n",
              "      <td>Mr. E</td>\n",
              "      <td>110</td>\n",
              "      <td>Economics</td>\n",
              "      <td>112</td>\n",
              "    </tr>\n",
              "    <tr>\n",
              "      <th>Sixth</th>\n",
              "      <td>Mrs.F</td>\n",
              "      <td>142</td>\n",
              "      <td>Language</td>\n",
              "      <td>151</td>\n",
              "    </tr>\n",
              "    <tr>\n",
              "      <th>Seventh</th>\n",
              "      <td>Mrs. G</td>\n",
              "      <td>231</td>\n",
              "      <td>Psychology</td>\n",
              "      <td>141</td>\n",
              "    </tr>\n",
              "  </tbody>\n",
              "</table>\n",
              "</div>"
            ],
            "text/plain": [
              "           Name  Room Number      Subject  Total Students\n",
              "First    Mrs. A          119  Mathematics             123\n",
              "Second    Mr. B          227   Philosophy             280\n",
              "Third     Mr. C          221     Language             500\n",
              "Fourth    Mr. D          136   Statistics             340\n",
              "Fifth     Mr. E          110    Economics             112\n",
              "Sixth    Mrs.F           142     Language             151\n",
              "Seventh  Mrs. G          231   Psychology             141"
            ]
          },
          "metadata": {
            "tags": []
          },
          "execution_count": 112
        }
      ]
    },
    {
      "cell_type": "markdown",
      "metadata": {
        "id": "1Pwq8wEQKKdA",
        "colab_type": "text"
      },
      "source": [
        "### Pandas Methods 🐢"
      ]
    },
    {
      "cell_type": "markdown",
      "metadata": {
        "id": "4lADsQJFKKdB",
        "colab_type": "text"
      },
      "source": [
        "Great! 👍 Pandas has many unique methods that we can use for data analysis and filtering. Let's first explore [**.unique( )**](https://pandas.pydata.org/pandas-docs/stable/reference/api/pandas.Series.unique.html). This method returns all the unique values in an given series or column:"
      ]
    },
    {
      "cell_type": "code",
      "metadata": {
        "id": "1cj0wYKYKKdB",
        "colab_type": "code",
        "outputId": "4a94bcc6-d5a4-4e88-8693-b705c8bd2e36",
        "colab": {
          "base_uri": "https://localhost:8080/",
          "height": 52
        }
      },
      "source": [
        "pd.unique(df1.Subject)"
      ],
      "execution_count": 113,
      "outputs": [
        {
          "output_type": "execute_result",
          "data": {
            "text/plain": [
              "array(['Mathematics', 'Philosophy', 'Language', 'Statistics', 'Economics',\n",
              "       'Psychology'], dtype=object)"
            ]
          },
          "metadata": {
            "tags": []
          },
          "execution_count": 113
        }
      ]
    },
    {
      "cell_type": "markdown",
      "metadata": {
        "id": "pb8JvqIjKKdC",
        "colab_type": "text"
      },
      "source": [
        "Let's now look at the [**describe()**](https://pandas.pydata.org/pandas-docs/stable/reference/api/pandas.DataFrame.describe.html)  method. This method returns the summary statistics of numerical columns. To return the numerical statistics, we write:"
      ]
    },
    {
      "cell_type": "code",
      "metadata": {
        "id": "252W6c8HKKdC",
        "colab_type": "code",
        "outputId": "4cf95ac5-c05f-42af-817b-14f672199ba8",
        "colab": {
          "base_uri": "https://localhost:8080/",
          "height": 294
        }
      },
      "source": [
        "df1.describe(include=[np.number])"
      ],
      "execution_count": 114,
      "outputs": [
        {
          "output_type": "execute_result",
          "data": {
            "text/html": [
              "<div>\n",
              "<style scoped>\n",
              "    .dataframe tbody tr th:only-of-type {\n",
              "        vertical-align: middle;\n",
              "    }\n",
              "\n",
              "    .dataframe tbody tr th {\n",
              "        vertical-align: top;\n",
              "    }\n",
              "\n",
              "    .dataframe thead th {\n",
              "        text-align: right;\n",
              "    }\n",
              "</style>\n",
              "<table border=\"1\" class=\"dataframe\">\n",
              "  <thead>\n",
              "    <tr style=\"text-align: right;\">\n",
              "      <th></th>\n",
              "      <th>Room Number</th>\n",
              "      <th>Total Students</th>\n",
              "    </tr>\n",
              "  </thead>\n",
              "  <tbody>\n",
              "    <tr>\n",
              "      <th>count</th>\n",
              "      <td>7.000000</td>\n",
              "      <td>7.000000</td>\n",
              "    </tr>\n",
              "    <tr>\n",
              "      <th>mean</th>\n",
              "      <td>169.428571</td>\n",
              "      <td>235.285714</td>\n",
              "    </tr>\n",
              "    <tr>\n",
              "      <th>std</th>\n",
              "      <td>54.328805</td>\n",
              "      <td>145.395683</td>\n",
              "    </tr>\n",
              "    <tr>\n",
              "      <th>min</th>\n",
              "      <td>110.000000</td>\n",
              "      <td>112.000000</td>\n",
              "    </tr>\n",
              "    <tr>\n",
              "      <th>25%</th>\n",
              "      <td>127.500000</td>\n",
              "      <td>132.000000</td>\n",
              "    </tr>\n",
              "    <tr>\n",
              "      <th>50%</th>\n",
              "      <td>142.000000</td>\n",
              "      <td>151.000000</td>\n",
              "    </tr>\n",
              "    <tr>\n",
              "      <th>75%</th>\n",
              "      <td>224.000000</td>\n",
              "      <td>310.000000</td>\n",
              "    </tr>\n",
              "    <tr>\n",
              "      <th>max</th>\n",
              "      <td>231.000000</td>\n",
              "      <td>500.000000</td>\n",
              "    </tr>\n",
              "  </tbody>\n",
              "</table>\n",
              "</div>"
            ],
            "text/plain": [
              "       Room Number  Total Students\n",
              "count     7.000000        7.000000\n",
              "mean    169.428571      235.285714\n",
              "std      54.328805      145.395683\n",
              "min     110.000000      112.000000\n",
              "25%     127.500000      132.000000\n",
              "50%     142.000000      151.000000\n",
              "75%     224.000000      310.000000\n",
              "max     231.000000      500.000000"
            ]
          },
          "metadata": {
            "tags": []
          },
          "execution_count": 114
        }
      ]
    },
    {
      "cell_type": "markdown",
      "metadata": {
        "id": "BsKjmT16KKdD",
        "colab_type": "text"
      },
      "source": [
        "Super simple! 🥳  **np.number** simply returns the numerical columns and excludes other data types. Now, let's attempt to filter columns in Pandas. <br> \n",
        "To filter in Pandas, we simply use brackets. Let's try one example:"
      ]
    },
    {
      "cell_type": "code",
      "metadata": {
        "id": "BPvwh15bKKdD",
        "colab_type": "code",
        "outputId": "f5da1845-9ef0-4f99-822b-d6d478b92132",
        "colab": {
          "base_uri": "https://localhost:8080/",
          "height": 141
        }
      },
      "source": [
        "df1[df1[\"Room Number\"] > 200]"
      ],
      "execution_count": 115,
      "outputs": [
        {
          "output_type": "execute_result",
          "data": {
            "text/html": [
              "<div>\n",
              "<style scoped>\n",
              "    .dataframe tbody tr th:only-of-type {\n",
              "        vertical-align: middle;\n",
              "    }\n",
              "\n",
              "    .dataframe tbody tr th {\n",
              "        vertical-align: top;\n",
              "    }\n",
              "\n",
              "    .dataframe thead th {\n",
              "        text-align: right;\n",
              "    }\n",
              "</style>\n",
              "<table border=\"1\" class=\"dataframe\">\n",
              "  <thead>\n",
              "    <tr style=\"text-align: right;\">\n",
              "      <th></th>\n",
              "      <th>Name</th>\n",
              "      <th>Room Number</th>\n",
              "      <th>Subject</th>\n",
              "      <th>Total Students</th>\n",
              "    </tr>\n",
              "  </thead>\n",
              "  <tbody>\n",
              "    <tr>\n",
              "      <th>Second</th>\n",
              "      <td>Mr. B</td>\n",
              "      <td>227</td>\n",
              "      <td>Philosophy</td>\n",
              "      <td>280</td>\n",
              "    </tr>\n",
              "    <tr>\n",
              "      <th>Third</th>\n",
              "      <td>Mr. C</td>\n",
              "      <td>221</td>\n",
              "      <td>Language</td>\n",
              "      <td>500</td>\n",
              "    </tr>\n",
              "    <tr>\n",
              "      <th>Seventh</th>\n",
              "      <td>Mrs. G</td>\n",
              "      <td>231</td>\n",
              "      <td>Psychology</td>\n",
              "      <td>141</td>\n",
              "    </tr>\n",
              "  </tbody>\n",
              "</table>\n",
              "</div>"
            ],
            "text/plain": [
              "           Name  Room Number     Subject  Total Students\n",
              "Second    Mr. B          227  Philosophy             280\n",
              "Third     Mr. C          221    Language             500\n",
              "Seventh  Mrs. G          231  Psychology             141"
            ]
          },
          "metadata": {
            "tags": []
          },
          "execution_count": 115
        }
      ]
    },
    {
      "cell_type": "markdown",
      "metadata": {
        "id": "Pey_gUxLKKdF",
        "colab_type": "text"
      },
      "source": [
        "🐍 Python is wonderful because it's so intuitive. We pointed to **df1**, and then to the **\"Room Number\"** column. At this point, we filtered for numbers greater than 200. "
      ]
    },
    {
      "cell_type": "markdown",
      "metadata": {
        "id": "CgYln5WbKKdF",
        "colab_type": "text"
      },
      "source": [
        "What if we want to find rows between a certain subset? We can use the '&' operator: "
      ]
    },
    {
      "cell_type": "code",
      "metadata": {
        "id": "dVlSA9sZKKdF",
        "colab_type": "code",
        "outputId": "2489a5e1-d513-4d25-e94a-6c16dfdb00d3",
        "colab": {
          "base_uri": "https://localhost:8080/",
          "height": 202
        }
      },
      "source": [
        "df1[(df1[\"Total Students\"] > 100) & (df1[\"Total Students\"] < 300)] "
      ],
      "execution_count": 116,
      "outputs": [
        {
          "output_type": "execute_result",
          "data": {
            "text/html": [
              "<div>\n",
              "<style scoped>\n",
              "    .dataframe tbody tr th:only-of-type {\n",
              "        vertical-align: middle;\n",
              "    }\n",
              "\n",
              "    .dataframe tbody tr th {\n",
              "        vertical-align: top;\n",
              "    }\n",
              "\n",
              "    .dataframe thead th {\n",
              "        text-align: right;\n",
              "    }\n",
              "</style>\n",
              "<table border=\"1\" class=\"dataframe\">\n",
              "  <thead>\n",
              "    <tr style=\"text-align: right;\">\n",
              "      <th></th>\n",
              "      <th>Name</th>\n",
              "      <th>Room Number</th>\n",
              "      <th>Subject</th>\n",
              "      <th>Total Students</th>\n",
              "    </tr>\n",
              "  </thead>\n",
              "  <tbody>\n",
              "    <tr>\n",
              "      <th>First</th>\n",
              "      <td>Mrs. A</td>\n",
              "      <td>119</td>\n",
              "      <td>Mathematics</td>\n",
              "      <td>123</td>\n",
              "    </tr>\n",
              "    <tr>\n",
              "      <th>Second</th>\n",
              "      <td>Mr. B</td>\n",
              "      <td>227</td>\n",
              "      <td>Philosophy</td>\n",
              "      <td>280</td>\n",
              "    </tr>\n",
              "    <tr>\n",
              "      <th>Fifth</th>\n",
              "      <td>Mr. E</td>\n",
              "      <td>110</td>\n",
              "      <td>Economics</td>\n",
              "      <td>112</td>\n",
              "    </tr>\n",
              "    <tr>\n",
              "      <th>Sixth</th>\n",
              "      <td>Mrs.F</td>\n",
              "      <td>142</td>\n",
              "      <td>Language</td>\n",
              "      <td>151</td>\n",
              "    </tr>\n",
              "    <tr>\n",
              "      <th>Seventh</th>\n",
              "      <td>Mrs. G</td>\n",
              "      <td>231</td>\n",
              "      <td>Psychology</td>\n",
              "      <td>141</td>\n",
              "    </tr>\n",
              "  </tbody>\n",
              "</table>\n",
              "</div>"
            ],
            "text/plain": [
              "           Name  Room Number      Subject  Total Students\n",
              "First    Mrs. A          119  Mathematics             123\n",
              "Second    Mr. B          227   Philosophy             280\n",
              "Fifth     Mr. E          110    Economics             112\n",
              "Sixth    Mrs.F           142     Language             151\n",
              "Seventh  Mrs. G          231   Psychology             141"
            ]
          },
          "metadata": {
            "tags": []
          },
          "execution_count": 116
        }
      ]
    },
    {
      "cell_type": "markdown",
      "metadata": {
        "id": "x6wsJ_pyKKdG",
        "colab_type": "text"
      },
      "source": [
        "We are almost finished our review of Pandas DataFrames. 🤠 Let's now turn our attention to [**.groupby()**](https://pandas.pydata.org/pandas-docs/stable/reference/api/pandas.DataFrame.groupby.html). The Groupby method involves grouping data around a particular category and applying analysis. "
      ]
    },
    {
      "cell_type": "markdown",
      "metadata": {
        "id": "Gb5FrKtEKKdG",
        "colab_type": "text"
      },
      "source": [
        "For this example, let's create an DataFrame of animals with their age, weight, and length: "
      ]
    },
    {
      "cell_type": "code",
      "metadata": {
        "id": "YJh32dztKKdH",
        "colab_type": "code",
        "colab": {}
      },
      "source": [
        "animal = {\n",
        "     'Animal' : [\"Hamster\", \"Alligator\", \"Hamster\",\"Cat\", \"Snake\", \"Cat\",\"Hamster\", \"Cat\", \"Cat\", \"Snake\", \"Hamster\", \"Hamster\", \"Cat\", \"Alligator\"],\n",
        "     'Age' : [1,9,4,13,14,10,2,4,14,7,14,2,1,7],\n",
        "     'Weight': [7,13,8,12,11,8,10,14,9,11,10,10,9,14], \n",
        "     'Length' : [8,6,9,1,8,9,5,6,6,6,5,3,4,5] \n",
        "}"
      ],
      "execution_count": 0,
      "outputs": []
    },
    {
      "cell_type": "code",
      "metadata": {
        "id": "-cXU3Wl-KKdH",
        "colab_type": "code",
        "outputId": "1148b2dc-b894-4219-afc8-70203408101a",
        "colab": {
          "base_uri": "https://localhost:8080/",
          "height": 478
        }
      },
      "source": [
        "animal = pd.DataFrame(animal)\n",
        "animal"
      ],
      "execution_count": 118,
      "outputs": [
        {
          "output_type": "execute_result",
          "data": {
            "text/html": [
              "<div>\n",
              "<style scoped>\n",
              "    .dataframe tbody tr th:only-of-type {\n",
              "        vertical-align: middle;\n",
              "    }\n",
              "\n",
              "    .dataframe tbody tr th {\n",
              "        vertical-align: top;\n",
              "    }\n",
              "\n",
              "    .dataframe thead th {\n",
              "        text-align: right;\n",
              "    }\n",
              "</style>\n",
              "<table border=\"1\" class=\"dataframe\">\n",
              "  <thead>\n",
              "    <tr style=\"text-align: right;\">\n",
              "      <th></th>\n",
              "      <th>Animal</th>\n",
              "      <th>Age</th>\n",
              "      <th>Weight</th>\n",
              "      <th>Length</th>\n",
              "    </tr>\n",
              "  </thead>\n",
              "  <tbody>\n",
              "    <tr>\n",
              "      <th>0</th>\n",
              "      <td>Hamster</td>\n",
              "      <td>1</td>\n",
              "      <td>7</td>\n",
              "      <td>8</td>\n",
              "    </tr>\n",
              "    <tr>\n",
              "      <th>1</th>\n",
              "      <td>Alligator</td>\n",
              "      <td>9</td>\n",
              "      <td>13</td>\n",
              "      <td>6</td>\n",
              "    </tr>\n",
              "    <tr>\n",
              "      <th>2</th>\n",
              "      <td>Hamster</td>\n",
              "      <td>4</td>\n",
              "      <td>8</td>\n",
              "      <td>9</td>\n",
              "    </tr>\n",
              "    <tr>\n",
              "      <th>3</th>\n",
              "      <td>Cat</td>\n",
              "      <td>13</td>\n",
              "      <td>12</td>\n",
              "      <td>1</td>\n",
              "    </tr>\n",
              "    <tr>\n",
              "      <th>4</th>\n",
              "      <td>Snake</td>\n",
              "      <td>14</td>\n",
              "      <td>11</td>\n",
              "      <td>8</td>\n",
              "    </tr>\n",
              "    <tr>\n",
              "      <th>5</th>\n",
              "      <td>Cat</td>\n",
              "      <td>10</td>\n",
              "      <td>8</td>\n",
              "      <td>9</td>\n",
              "    </tr>\n",
              "    <tr>\n",
              "      <th>6</th>\n",
              "      <td>Hamster</td>\n",
              "      <td>2</td>\n",
              "      <td>10</td>\n",
              "      <td>5</td>\n",
              "    </tr>\n",
              "    <tr>\n",
              "      <th>7</th>\n",
              "      <td>Cat</td>\n",
              "      <td>4</td>\n",
              "      <td>14</td>\n",
              "      <td>6</td>\n",
              "    </tr>\n",
              "    <tr>\n",
              "      <th>8</th>\n",
              "      <td>Cat</td>\n",
              "      <td>14</td>\n",
              "      <td>9</td>\n",
              "      <td>6</td>\n",
              "    </tr>\n",
              "    <tr>\n",
              "      <th>9</th>\n",
              "      <td>Snake</td>\n",
              "      <td>7</td>\n",
              "      <td>11</td>\n",
              "      <td>6</td>\n",
              "    </tr>\n",
              "    <tr>\n",
              "      <th>10</th>\n",
              "      <td>Hamster</td>\n",
              "      <td>14</td>\n",
              "      <td>10</td>\n",
              "      <td>5</td>\n",
              "    </tr>\n",
              "    <tr>\n",
              "      <th>11</th>\n",
              "      <td>Hamster</td>\n",
              "      <td>2</td>\n",
              "      <td>10</td>\n",
              "      <td>3</td>\n",
              "    </tr>\n",
              "    <tr>\n",
              "      <th>12</th>\n",
              "      <td>Cat</td>\n",
              "      <td>1</td>\n",
              "      <td>9</td>\n",
              "      <td>4</td>\n",
              "    </tr>\n",
              "    <tr>\n",
              "      <th>13</th>\n",
              "      <td>Alligator</td>\n",
              "      <td>7</td>\n",
              "      <td>14</td>\n",
              "      <td>5</td>\n",
              "    </tr>\n",
              "  </tbody>\n",
              "</table>\n",
              "</div>"
            ],
            "text/plain": [
              "       Animal  Age  Weight  Length\n",
              "0     Hamster    1       7       8\n",
              "1   Alligator    9      13       6\n",
              "2     Hamster    4       8       9\n",
              "3         Cat   13      12       1\n",
              "4       Snake   14      11       8\n",
              "5         Cat   10       8       9\n",
              "6     Hamster    2      10       5\n",
              "7         Cat    4      14       6\n",
              "8         Cat   14       9       6\n",
              "9       Snake    7      11       6\n",
              "10    Hamster   14      10       5\n",
              "11    Hamster    2      10       3\n",
              "12        Cat    1       9       4\n",
              "13  Alligator    7      14       5"
            ]
          },
          "metadata": {
            "tags": []
          },
          "execution_count": 118
        }
      ]
    },
    {
      "cell_type": "markdown",
      "metadata": {
        "id": "NkXKG9rhKKdI",
        "colab_type": "text"
      },
      "source": [
        "So one question we could ask about the animal data might be, \"What's the average weight of all the snakes, cats, hamsters, and alligators?\" To find the average weight of each category of animal, we'll group the animals by animal type and then apply the mean function. We could apply other functions too. We could apply \"sum\" to add up all the weights, \"min\" to find the lowest, \"max\" to get the highest, or \"count\" just to get a count of each animal type:"
      ]
    },
    {
      "cell_type": "code",
      "metadata": {
        "id": "g_QWyOf0KKdJ",
        "colab_type": "code",
        "outputId": "e1147432-2af1-4c1e-bad6-00a682a63faf",
        "colab": {
          "base_uri": "https://localhost:8080/",
          "height": 121
        }
      },
      "source": [
        "animal_groups = animal.groupby(\"Animal\")\n",
        "animal_groups['Weight'].mean()"
      ],
      "execution_count": 119,
      "outputs": [
        {
          "output_type": "execute_result",
          "data": {
            "text/plain": [
              "Animal\n",
              "Alligator    13.5\n",
              "Cat          10.4\n",
              "Hamster       9.0\n",
              "Snake        11.0\n",
              "Name: Weight, dtype: float64"
            ]
          },
          "metadata": {
            "tags": []
          },
          "execution_count": 119
        }
      ]
    },
    {
      "cell_type": "markdown",
      "metadata": {
        "id": "VQVVvCTxKKdK",
        "colab_type": "text"
      },
      "source": [
        "## Exercise 3: DataFrame 🏃\n",
        "- Open the [UN Dataset](http://data.un.org/_Docs/SYB/PDFs/SYB60_T03_Population%20Growth,%20Fertility%20and%20Mortality%20Indicators.pdf) \n",
        "- Create a DataFrame using **Northern Africa**, **Sub-Saharan Africa**, **Eastern Asia** and **Western Europe**. For these areas, create columns for *Population Rate of Increase*, *Fertility Rate*, and *Infant Mortality*. \n",
        "- Using filtering, sort for the countries that have infant mortality between 30 and 50. \n",
        "- Find the max for Infant Mortality for the three areas"
      ]
    },
    {
      "cell_type": "code",
      "metadata": {
        "id": "xMfK8-UeKKdK",
        "colab_type": "code",
        "colab": {}
      },
      "source": [
        ""
      ],
      "execution_count": 0,
      "outputs": []
    },
    {
      "cell_type": "code",
      "metadata": {
        "id": "QthYq_-eKKdK",
        "colab_type": "code",
        "colab": {}
      },
      "source": [
        ""
      ],
      "execution_count": 0,
      "outputs": []
    },
    {
      "cell_type": "code",
      "metadata": {
        "id": "BO7YPlULKKdL",
        "colab_type": "code",
        "colab": {}
      },
      "source": [
        ""
      ],
      "execution_count": 0,
      "outputs": []
    },
    {
      "cell_type": "code",
      "metadata": {
        "id": "CDiUR5d7KKdL",
        "colab_type": "code",
        "colab": {}
      },
      "source": [
        ""
      ],
      "execution_count": 0,
      "outputs": []
    },
    {
      "cell_type": "markdown",
      "metadata": {
        "id": "8ni5XbrPKKdM",
        "colab_type": "text"
      },
      "source": [
        "With that, we've completed our review of the Python library Pandas. If you have any lingering questions, do ask! You can find more on Pandas on their [official website](pandas.pydata.org)."
      ]
    },
    {
      "cell_type": "markdown",
      "metadata": {
        "id": "N6zknks8KKdM",
        "colab_type": "text"
      },
      "source": [
        "# Matplotlib: A (Tiny) Introduction 📈"
      ]
    },
    {
      "cell_type": "markdown",
      "metadata": {
        "id": "Ncf6gLKkKKdM",
        "colab_type": "text"
      },
      "source": [
        "Mathplotlib is a Python 2D plotting library which produces  plots, histograms, power spectra, bar charts, errorcharts, scatterplots, etc. with just a few lines of code. Source: [Matplotlib](https://matplotlib.org). <br> \n",
        "We'll cover only some of the coolest features in this Notebook due to time constraints. You can explore more on the [official website](https://matplotlib.org/tutorials/index.html)"
      ]
    },
    {
      "cell_type": "markdown",
      "metadata": {
        "id": "AF_UaXHGKKdM",
        "colab_type": "text"
      },
      "source": [
        "Let's import the mathplotlib library under the alias plt"
      ]
    },
    {
      "cell_type": "code",
      "metadata": {
        "id": "SPimxVV7KKdM",
        "colab_type": "code",
        "colab": {}
      },
      "source": [
        "import matplotlib.pyplot as plt"
      ],
      "execution_count": 0,
      "outputs": []
    },
    {
      "cell_type": "markdown",
      "metadata": {
        "id": "sQNhgmjFKKdN",
        "colab_type": "text"
      },
      "source": [
        "### Pyplot"
      ]
    },
    {
      "cell_type": "markdown",
      "metadata": {
        "id": "9WbbAMlRKKdN",
        "colab_type": "text"
      },
      "source": [
        "Pyplot is a module of Matplotlib which provides simple functions to add plot elements like lines, images, text, etc. to the current axes in the current figure."
      ]
    },
    {
      "cell_type": "markdown",
      "metadata": {
        "id": "00Fel6ykKKdN",
        "colab_type": "text"
      },
      "source": [
        "We'll import the Pyplot module to create a simple plot. We will be using two NumPy arrays - one for the x-coordinates and another for the y-coordinates:"
      ]
    },
    {
      "cell_type": "code",
      "metadata": {
        "id": "sLSc7SbHKKdN",
        "colab_type": "code",
        "outputId": "81aa5176-499e-4ed6-9cd1-a868cad46b40",
        "colab": {
          "base_uri": "https://localhost:8080/",
          "height": 269
        }
      },
      "source": [
        "plt.plot([1,2,3,4],[1,4,9,16]) # plt.plot([x-coordinates], [y-coordinates])\n",
        "plt.show()"
      ],
      "execution_count": 121,
      "outputs": [
        {
          "output_type": "display_data",
          "data": {
            "image/png": "[encoded data removed]",
            "text/plain": [
              "<Figure size 432x288 with 1 Axes>"
            ]
          },
          "metadata": {
            "tags": []
          }
        }
      ]
    },
    {
      "cell_type": "markdown",
      "metadata": {
        "id": "weoDq9MYKKdO",
        "colab_type": "text"
      },
      "source": [
        "Now, we can add titles, and labels:"
      ]
    },
    {
      "cell_type": "code",
      "metadata": {
        "id": "iHnwLMXHKKdO",
        "colab_type": "code",
        "outputId": "cf9b0c3b-8cea-47a2-a6d0-aeffc035bc45",
        "colab": {
          "base_uri": "https://localhost:8080/",
          "height": 296
        }
      },
      "source": [
        "plt.plot([1,2,3,4],[1,4,9,16]) # plt.plot([x-coordinates], [y-coordinates])\n",
        "plt.title(\"First Plot\")\n",
        "plt.xlabel(\"X Label\")\n",
        "plt.ylabel(\"Y Label\")\n",
        "plt.show()"
      ],
      "execution_count": 122,
      "outputs": [
        {
          "output_type": "display_data",
          "data": {
            "image/png": "[encoded data removed]",
            "text/plain": [
              "<Figure size 432x288 with 1 Axes>"
            ]
          },
          "metadata": {
            "tags": []
          }
        }
      ]
    },
    {
      "cell_type": "markdown",
      "metadata": {
        "id": "LH76ssZnKKdP",
        "colab_type": "text"
      },
      "source": [
        "Another commonly used graph in Machine Learning is the Scatter Plot. Let's create a basic scatterplot in MathPlotLib comparing the distribution of height vs. weight: "
      ]
    },
    {
      "cell_type": "code",
      "metadata": {
        "id": "9O0CPOx4KKdQ",
        "colab_type": "code",
        "outputId": "e2bfb416-e79e-4232-8a57-0acdca0595be",
        "colab": {
          "base_uri": "https://localhost:8080/",
          "height": 296
        }
      },
      "source": [
        "height = np.array([167, 170, 149, 165, 155, 180, 166, 146, 159, 185, 145, 168, 172, 181, 169])\n",
        "weight = np.array([86,74,66,78,68,79,90,73,70,88,66,84, 67, 84, 77])\n",
        "\n",
        "#We can set the limit (lower, upper) for the x-axis and the y-axis using xlim and ylim, respectively.\n",
        "plt.xlim(140, 200)\n",
        "plt.ylim(60,100)\n",
        "#A scatterplot can be generated through .scatter(x,y)\n",
        "plt.scatter(height,weight)\n",
        "plt.title(\"Comparing Height vs. Weight\")\n",
        "plt.xlabel(\"Height\")\n",
        "plt.ylabel(\"Weight\")\n",
        "plt.show()"
      ],
      "execution_count": 123,
      "outputs": [
        {
          "output_type": "display_data",
          "data": {
            "image/png": "[encoded data removed]",
            "text/plain": [
              "<Figure size 432x288 with 1 Axes>"
            ]
          },
          "metadata": {
            "tags": []
          }
        }
      ]
    },
    {
      "cell_type": "markdown",
      "metadata": {
        "id": "6mxMn_4bKKdR",
        "colab_type": "text"
      },
      "source": [
        "## Exercise: MatPlotLib 🏃 "
      ]
    },
    {
      "cell_type": "markdown",
      "metadata": {
        "id": "3LfHjeNWKKdR",
        "colab_type": "text"
      },
      "source": [
        "- Using the data for the animal weights and lengths, create an scatterplot comparing the information. \n",
        "\n",
        "Note: Remember to properly label the graph (x-axis, y-axis, and title!)"
      ]
    },
    {
      "cell_type": "markdown",
      "metadata": {
        "id": "wh-AfqzEKKdR",
        "colab_type": "text"
      },
      "source": [
        "# Seaborn: Another (tiny) introduction 🌊 "
      ]
    },
    {
      "cell_type": "markdown",
      "metadata": {
        "id": "X3OFm9_LKKdR",
        "colab_type": "text"
      },
      "source": [
        "Let's first import the library for seaborn under the alias sns:"
      ]
    },
    {
      "cell_type": "code",
      "metadata": {
        "id": "XRUp2FjCKKdR",
        "colab_type": "code",
        "colab": {}
      },
      "source": [
        "import seaborn as sns\n",
        "import gdown\n",
        "gdown.download('https://drive.google.com/uc?id=14FYQvB05JqfU4d1Wn1LSv_Jh0om7AI0M', 'tips.csv', True)\n",
        "data  = 'tips.csv'\n",
        "\n",
        "\n",
        "# Run this code to import the data and read it in using 'pd.read_csv('file')'\n",
        "tips = pd.read_csv(data)\n",
        "\n",
        "\n"
      ],
      "execution_count": 0,
      "outputs": []
    },
    {
      "cell_type": "markdown",
      "metadata": {
        "id": "9kT_EQIkKKdS",
        "colab_type": "text"
      },
      "source": [
        "Let's import a csv file - comma-seperated values - that details the total bill costs and the tips. We'll run a scatterplot on this data:"
      ]
    },
    {
      "cell_type": "code",
      "metadata": {
        "id": "V22LJI2sKKdS",
        "colab_type": "code",
        "colab": {}
      },
      "source": [
        "tips = pd.read_csv('tips.csv')"
      ],
      "execution_count": 0,
      "outputs": []
    },
    {
      "cell_type": "code",
      "metadata": {
        "id": "bx-QuQQ3KKdT",
        "colab_type": "code",
        "outputId": "c1104caf-26e8-48f6-82c3-fd2e3d99b7b8",
        "colab": {
          "base_uri": "https://localhost:8080/",
          "height": 284
        }
      },
      "source": [
        "tips = sns.load_dataset(\"tips\") # we're loading the dataset into tips\n",
        "ax = sns.scatterplot(x=\"total_bill\", y=\"tip\", data=tips) #plotting it"
      ],
      "execution_count": 126,
      "outputs": [
        {
          "output_type": "display_data",
          "data": {
            "image/png": "[encoded data removed]",
            "text/plain": [
              "<Figure size 432x288 with 1 Axes>"
            ]
          },
          "metadata": {
            "tags": []
          }
        }
      ]
    },
    {
      "cell_type": "markdown",
      "metadata": {
        "id": "gUDdScq-KKdU",
        "colab_type": "text"
      },
      "source": [
        "The scatterplot above does not discriminate between the days of the week. What if we wanted to see the distribution of the data for each day? \n",
        "<br> \n",
        "For this, we can consider using a categorical scatterplot with the **.catplot()** method. "
      ]
    },
    {
      "cell_type": "code",
      "metadata": {
        "id": "zw8v_e-hKKdU",
        "colab_type": "code",
        "outputId": "d9d813de-3879-4433-9c89-a342cafa15fe",
        "colab": {
          "base_uri": "https://localhost:8080/",
          "height": 369
        }
      },
      "source": [
        "tips = sns.load_dataset(\"tips\")\n",
        "sns.catplot(x=\"day\", y=\"total_bill\", data=tips);"
      ],
      "execution_count": 127,
      "outputs": [
        {
          "output_type": "display_data",
          "data": {
            "image/png": "[encoded data removed]",
            "text/plain": [
              "<Figure size 360x360 with 1 Axes>"
            ]
          },
          "metadata": {
            "tags": []
          }
        }
      ]
    },
    {
      "cell_type": "markdown",
      "metadata": {
        "id": "6W0Rxlt1KKdW",
        "colab_type": "text"
      },
      "source": [
        "We can go even further! How about we try sorting the time of the day that the customer dined at the restaraunt? Let's use the swarm parameter to prevent the points from overlapping and group by time:"
      ]
    },
    {
      "cell_type": "code",
      "metadata": {
        "id": "vp3BnS7UKKdW",
        "colab_type": "code",
        "outputId": "319dd7e2-1b8e-49c5-df12-0ce0a4976d5a",
        "colab": {
          "base_uri": "https://localhost:8080/",
          "height": 369
        }
      },
      "source": [
        "sns.catplot(x=\"total_bill\", y=\"day\", hue=\"time\", kind=\"swarm\", data=tips);"
      ],
      "execution_count": 128,
      "outputs": [
        {
          "output_type": "display_data",
          "data": {
            "image/png": "[encoded data removed]",
            "text/plain": [
              "<Figure size 429.625x360 with 1 Axes>"
            ]
          },
          "metadata": {
            "tags": []
          }
        }
      ]
    },
    {
      "cell_type": "markdown",
      "metadata": {
        "id": "Aij7Gu_lKKdX",
        "colab_type": "text"
      },
      "source": [
        "To reiterate, the *hue* parameter allows us to name the variable to group by. The *Swarm* kind helps us group the data into two different times."
      ]
    },
    {
      "cell_type": "markdown",
      "metadata": {
        "id": "xR4_GYXdKKdX",
        "colab_type": "text"
      },
      "source": [
        "## Exercise: Seaborn 🐳"
      ]
    },
    {
      "cell_type": "markdown",
      "metadata": {
        "id": "0VYlmLfKKKdX",
        "colab_type": "text"
      },
      "source": [
        "Time for one of our last exercises!"
      ]
    },
    {
      "cell_type": "markdown",
      "metadata": {
        "id": "tE5KW2hJKKdX",
        "colab_type": "text"
      },
      "source": [
        "- Using the **.catplot()** method, sort for 'Smoker' in a Swarm-kind graph\n",
        "- Import a new dataset called 'airline-safety.csv'\n",
        "- Create a simple scatterplot between incidents between the years '85-'99 and fatal accidents between the years '85-'99. "
      ]
    },
    {
      "cell_type": "code",
      "metadata": {
        "id": "vOmk_A90DjKv",
        "colab_type": "code",
        "colab": {}
      },
      "source": [
        "import gdown\n",
        "gdown.download('https://drive.google.com/uc?id=1eDhwxZxEnMoKcaR-ATW21ReuKdwpMdrF', 'airline-safety.csv', True)\n",
        "data  = 'airline-safety.csv'\n"
      ],
      "execution_count": 0,
      "outputs": []
    },
    {
      "cell_type": "code",
      "metadata": {
        "id": "O3OzFi98ESms",
        "colab_type": "code",
        "colab": {}
      },
      "source": [
        "#Import the data using the pd.read_csv function\n",
        "tips = pd.read_csv(data)"
      ],
      "execution_count": 0,
      "outputs": []
    },
    {
      "cell_type": "markdown",
      "metadata": {
        "id": "FuPzuDVVKKdX",
        "colab_type": "text"
      },
      "source": [
        "# Sci-Kit Learn: A Small Preview 👀"
      ]
    },
    {
      "cell_type": "markdown",
      "metadata": {
        "id": "DVRl5hoNKKdY",
        "colab_type": "text"
      },
      "source": [
        "**Scikit-learn** is a free software machine learning library for the Python programming language. It features various classification, regression and clustering algorithms including support vector machines, random forests, gradient boosting, k-means and DBSCAN, and is designed to interoperate with the Python numerical and scientific libraries NumPy and SciPy. Official website: https://scikit-learn.org/ <br>\n",
        "We'll be building a simple linear regression in Sci-Kit Learn to demonstrate how the library works at the base level. "
      ]
    },
    {
      "cell_type": "markdown",
      "metadata": {
        "id": "V7BLSrIJKKdY",
        "colab_type": "text"
      },
      "source": [
        "## Linear Regression 🏡"
      ]
    },
    {
      "cell_type": "markdown",
      "metadata": {
        "id": "NOwFVD4iKKdY",
        "colab_type": "text"
      },
      "source": [
        "Linear regression is a linear approach to modeling a relationship between an response variable and an explanatory variable. We'll create a small model that predicts the relationship between expected and true housing prices using the Boston Housing Dataset:"
      ]
    },
    {
      "cell_type": "markdown",
      "metadata": {
        "id": "kTMMlpXQKKdY",
        "colab_type": "text"
      },
      "source": [
        "## Import 📦 "
      ]
    },
    {
      "cell_type": "code",
      "metadata": {
        "id": "enQickNWKKdY",
        "colab_type": "code",
        "colab": {}
      },
      "source": [
        "from sklearn.model_selection import train_test_split\n",
        "from sklearn.linear_model import LinearRegression\n",
        "from sklearn.datasets import load_boston\n",
        "data = load_boston()"
      ],
      "execution_count": 0,
      "outputs": []
    },
    {
      "cell_type": "markdown",
      "metadata": {
        "id": "j5vaztG9KKdZ",
        "colab_type": "text"
      },
      "source": [
        "## Train and Define 🚂 "
      ]
    },
    {
      "cell_type": "markdown",
      "metadata": {
        "id": "uEd9diyUKKdZ",
        "colab_type": "text"
      },
      "source": [
        "We're going to define our X-axis and Y-axis and fit the model to a Linear Regression."
      ]
    },
    {
      "cell_type": "code",
      "metadata": {
        "id": "rjwnl-z6KKdZ",
        "colab_type": "code",
        "colab": {}
      },
      "source": [
        "X_train, X_test, y_train, y_test = train_test_split(data.data, data.target)\n",
        "clf = LinearRegression()\n",
        "clf.fit(X_train, y_train)\n",
        "predicted = clf.predict(X_test)\n",
        "expected = y_test"
      ],
      "execution_count": 0,
      "outputs": []
    },
    {
      "cell_type": "markdown",
      "metadata": {
        "id": "0QdXhrp6KKdZ",
        "colab_type": "text"
      },
      "source": [
        "## Plot 📊"
      ]
    },
    {
      "cell_type": "code",
      "metadata": {
        "id": "hPaS2_nvKKdZ",
        "colab_type": "code",
        "outputId": "8e056e84-886f-44f0-be43-79d4af7229a7",
        "colab": {
          "base_uri": "https://localhost:8080/",
          "height": 225
        }
      },
      "source": [
        "plt.figure(figsize=(4, 3))\n",
        "plt.scatter(expected, predicted)\n",
        "plt.plot([0, 50], [0, 50], '--k')\n",
        "plt.axis('tight')\n",
        "plt.xlabel('True price ($1000s)')\n",
        "plt.ylabel('Predicted price ($1000s)')\n",
        "plt.tight_layout()"
      ],
      "execution_count": 133,
      "outputs": [
        {
          "output_type": "display_data",
          "data": {
            "image/png": "[encoded data removed]",
            "text/plain": [
              "<Figure size 288x216 with 1 Axes>"
            ]
          },
          "metadata": {
            "tags": []
          }
        }
      ]
    },
    {
      "cell_type": "markdown",
      "metadata": {
        "id": "iSHOGMQhKKda",
        "colab_type": "text"
      },
      "source": [
        "Woo! 🥳 We've just seen a small preview of what Sci-Kit Learn can do. We have the ability to create an accurate ML model with a few lines of code. \n",
        "\n",
        "We hope you learned something useful, and feel more curious to learn more about AI! "
      ]
    },
    {
      "cell_type": "code",
      "metadata": {
        "id": "hLIYAYJ4Eomz",
        "colab_type": "code",
        "colab": {}
      },
      "source": [
        ""
      ],
      "execution_count": 0,
      "outputs": []
    }
  ]
}